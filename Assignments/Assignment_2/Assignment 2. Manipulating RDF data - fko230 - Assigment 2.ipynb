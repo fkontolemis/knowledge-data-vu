{
 "cells": [
  {
   "cell_type": "markdown",
   "metadata": {},
   "source": [
    "# Knowledge and Data: Practical Assignment 2\n",
    "## Manipulate local and external RDF Knowledge Graphs "
   ]
  },
  {
   "cell_type": "markdown",
   "metadata": {},
   "source": [
    "YOUR NAME: Filippos Kontolemis\n",
    "\n",
    "YOUR VUNetID: fko230\n",
    "\n",
    "*(If you do not provide your name and VUNetID we will not accept your submission).*"
   ]
  },
  {
   "cell_type": "markdown",
   "metadata": {},
   "source": [
    "### Learning objectives"
   ]
  },
  {
   "cell_type": "markdown",
   "metadata": {},
   "source": [
    "At the end of this exercise you should be able to perform some simple manipulations of RDF Data using the rdflib library. You should be able to: \n",
    "\n",
    "1. Add and retrieve information from a local RDF database\n",
    "2. Represent RDF data in other formats, such as the .dot format for graph visualisation\n",
    "3. Retrieve information from an RDF database created from Web Data\n",
    "4. Query information from the Web with SPARQL"
   ]
  },
  {
   "cell_type": "markdown",
   "metadata": {},
   "source": [
    "### Practicalities"
   ]
  },
  {
   "cell_type": "markdown",
   "metadata": {},
   "source": [
    "Follow this Notebook step-by-step. \n",
    "\n",
    "Of course, you can do the exercises in any Programming Editor of your liking. \n",
    "But you do not have to. Feel free to simply write code in the Notebook. When \n",
    "everything is filled in and works, save the Notebook and submit it \n",
    "as a Jupyter Notebook, i.e. with an .ipynb extension. Please use as name of the \n",
    "Notebook your studentID+Assignment2.ipynb.  \n",
    "\n",
    "We will not evaluate the programming style of your solutions. Yet we do look whether your solutions suggests an understanding, and whether they yield the correct output.\n",
    "\n",
    "Note that all notebooks will automatically be checked for plagiarism: while similar answers can be expected, it is not allowed to directly copy the solutions from fellow students or TAs, or from the examples discussed during the lectures. Similarly, sharing your solutions with your peers is not allowed."
   ]
  },
  {
   "cell_type": "markdown",
   "metadata": {},
   "source": [
    "# A. Tasks related to local RDF Knowledge Graphs"
   ]
  },
  {
   "cell_type": "markdown",
   "metadata": {},
   "source": [
    "This first cell will open a file 'example-from-slide.ttl' using the rdflib library. The first Practical Assignment should have taught you that manipulating symbols as strings is a major pain. \n",
    "\n",
    "Programming libraries, such as **rdflib**, help you with this mess once and for all, by parsing the files, creating appropriate datastructures (Graph()) and providing useful functions (such as serialize(), save() and much more). \n",
    "Check the website of rdflib http://rdflib.readthedocs.io/: this library does most of the hard work for you."
   ]
  },
  {
   "cell_type": "code",
   "execution_count": 275,
   "metadata": {},
   "outputs": [
    {
     "name": "stdout",
     "output_type": "stream",
     "text": [
      "Requirement already satisfied: rdflib in /Library/Frameworks/Python.framework/Versions/3.13/lib/python3.13/site-packages (7.1.4)\n",
      "Requirement already satisfied: pyparsing<4,>=2.1.0 in /Library/Frameworks/Python.framework/Versions/3.13/lib/python3.13/site-packages (from rdflib) (3.2.3)\n",
      "Note: you may need to restart the kernel to use updated packages.\n"
     ]
    }
   ],
   "source": [
    "# Before starting with the tasks of this assignment, do not forget to install **rdflib** so we can start using it. \n",
    "%pip install rdflib"
   ]
  },
  {
   "cell_type": "code",
   "execution_count": 276,
   "metadata": {},
   "outputs": [],
   "source": [
    "from rdflib import Graph, RDF, Namespace, Literal, URIRef\n",
    "\n",
    "g = Graph()\n",
    "\n",
    "EX = Namespace('http://example.com/kad0/')\n",
    "g.bind('ex',EX)\n",
    "\n",
    "def serialize_graph():\n",
    "    print(g.serialize(format='turtle'))\n",
    "\n",
    "def save_graph(filename):\n",
    "    with open(filename, 'w') as f:\n",
    "        g.serialize(f, format='nt')\n",
    "        \n",
    "def load_graph(filename):\n",
    "    with open(filename, 'r') as f:\n",
    "        g.parse(f, format='turtle')   "
   ]
  },
  {
   "cell_type": "markdown",
   "metadata": {},
   "source": [
    "The file 'example-from-slides.ttl' formalises the knowledge base from the slides from Module 1, and a bit more. \n",
    "\n",
    "Here is how it looks when you load it into your program and serialise it with rdflib in turtle. "
   ]
  },
  {
   "cell_type": "code",
   "execution_count": 277,
   "metadata": {},
   "outputs": [
    {
     "name": "stdout",
     "output_type": "stream",
     "text": [
      "@prefix ex1: <http://example.com/kad/> .\n",
      "@prefix rdfs: <http://www.w3.org/2000/01/rdf-schema#> .\n",
      "\n",
      "ex1:Germany a ex1:EuropeanCountry .\n",
      "\n",
      "ex1:Italy a ex1:Country ;\n",
      "    ex1:hasCapital ex1:Rome ;\n",
      "    ex1:hasName \"Italy\" .\n",
      "\n",
      "ex1:Netherlands a ex1:Country ;\n",
      "    ex1:hasCapital ex1:Amsterdam ;\n",
      "    ex1:hasName \"Netherlands\" ;\n",
      "    ex1:neighbours ex1:Belgium .\n",
      "\n",
      "ex1:Spain a ex1:Country ;\n",
      "    ex1:hasCapital ex1:Madrid ;\n",
      "    ex1:hasName \"Spain\" ;\n",
      "    ex1:neighbours ex1:Portugal .\n",
      "\n",
      "ex1:hasCapital rdfs:range ex1:Capital ;\n",
      "    rdfs:subPropertyOf ex1:containsCity .\n",
      "\n",
      "ex1:Amsterdam a ex1:Capital .\n",
      "\n",
      "ex1:Belgium a ex1:Country .\n",
      "\n",
      "ex1:EuropeanCountry rdfs:subClassOf ex1:Country .\n",
      "\n",
      "ex1:Lisbon a ex1:Capital .\n",
      "\n",
      "ex1:Madrid a ex1:Capital .\n",
      "\n",
      "ex1:Portugal a ex1:Country ;\n",
      "    ex1:hasCapital ex1:Lisbon ;\n",
      "    ex1:hasName \"Portugal\" .\n",
      "\n",
      "ex1:Rome a ex1:Capital .\n",
      "\n",
      "ex1:containsCity rdfs:domain ex1:Country ;\n",
      "    rdfs:range ex1:City .\n",
      "\n",
      "ex1:Capital rdfs:subClassOf ex1:City .\n",
      "\n",
      "\n"
     ]
    }
   ],
   "source": [
    "load_graph('example-from-slides.ttl')\n",
    "serialize_graph()"
   ]
  },
  {
   "cell_type": "markdown",
   "metadata": {},
   "source": [
    "Now, we can manipulate the graph very easily, e.g. like in the following very simple function, which returns the predicate(s) that relate a subject to a literal object: "
   ]
  },
  {
   "cell_type": "code",
   "execution_count": 278,
   "metadata": {
    "scrolled": true
   },
   "outputs": [
    {
     "name": "stdout",
     "output_type": "stream",
     "text": [
      "http://example.com/kad/hasName\n",
      "http://example.com/kad/hasName\n",
      "http://example.com/kad/hasName\n",
      "http://example.com/kad/hasName\n"
     ]
    }
   ],
   "source": [
    "for s,p,o in g:\n",
    "    if type(o) is Literal:\n",
    "        print(p)"
   ]
  },
  {
   "cell_type": "markdown",
   "metadata": {},
   "source": [
    "### - Task 1: (10 Points) Add information to an RDF graph"
   ]
  },
  {
   "cell_type": "markdown",
   "metadata": {},
   "source": [
    "Add triples to the knowledge graph. Make sure that they have the right namespaces. \n",
    "\n",
    "Similarily to the triples already present in the file 'example-from-slides.ttl':\n",
    "- add at least three new countries with their name and capital \n",
    "- add at least one triple with the `neighbour` predicate\n",
    "\n",
    "Check: http://rdflib.readthedocs.io/en/stable/intro_to_creating_rdf.html\n",
    "\n",
    "Remember that ```a``` is Turtle shorthand for ```rdf:type```."
   ]
  },
  {
   "cell_type": "code",
   "execution_count": 279,
   "metadata": {},
   "outputs": [
    {
     "name": "stdout",
     "output_type": "stream",
     "text": [
      "@prefix ex: <http://example.com/kad/> .\n",
      "@prefix rdfs: <http://www.w3.org/2000/01/rdf-schema#> .\n",
      "\n",
      "ex:Germany a ex:EuropeanCountry .\n",
      "\n",
      "ex:Italy a ex:Country ;\n",
      "    ex:hasCapital ex:Rome ;\n",
      "    ex:hasName \"Italy\" .\n",
      "\n",
      "ex:Netherlands a ex:Country ;\n",
      "    ex:hasCapital ex:Amsterdam ;\n",
      "    ex:hasName \"Netherlands\" ;\n",
      "    ex:neighbours ex:Belgium .\n",
      "\n",
      "ex:Spain a ex:Country ;\n",
      "    ex:hasCapital ex:Madrid ;\n",
      "    ex:hasName \"Spain\" ;\n",
      "    ex:neighbours ex:Portugal .\n",
      "\n",
      "ex:hasCapital rdfs:range ex:Capital ;\n",
      "    rdfs:subPropertyOf ex:containsCity .\n",
      "\n",
      "ex:Amsterdam a ex:Capital .\n",
      "\n",
      "ex:Belgium a ex:Country .\n",
      "\n",
      "ex:EuropeanCountry rdfs:subClassOf ex:Country .\n",
      "\n",
      "ex:Lisbon a ex:Capital .\n",
      "\n",
      "ex:Madrid a ex:Capital .\n",
      "\n",
      "ex:Portugal a ex:Country ;\n",
      "    ex:hasCapital ex:Lisbon ;\n",
      "    ex:hasName \"Portugal\" .\n",
      "\n",
      "ex:Rome a ex:Capital .\n",
      "\n",
      "ex:containsCity rdfs:domain ex:Country ;\n",
      "    rdfs:range ex:City .\n",
      "\n",
      "ex:Capital rdfs:subClassOf ex:City .\n",
      "\n",
      "\n"
     ]
    }
   ],
   "source": [
    "ex = Namespace(\"http://example.com/kad/\")\n",
    "owl = Namespace(\"http://www.w3.org/2002/07/owl#\")\n",
    "rdf = Namespace(\"http://www.w3.org/1999/02/22-rdf-syntax-ns#\")\n",
    "rdfs = Namespace(\"http://www.w3.org/2000/01/rdf-schema#\")\n",
    "\n",
    "g= Graph()\n",
    "g.parse(\"example-from-slides.ttl\", format=\"ttl\")\n",
    "g.bind('ex',ex)\n",
    "g.bind('owl',owl)\n",
    "g.bind('rdf',rdf)\n",
    "g.bind('rdfs',rdfs)\n",
    "\n",
    "\n",
    "g.add((ex.Portugal, RDF.type, ex.Country))\n",
    "g.add((ex.Portugal, ex.hasName, Literal(\"Portugal\")))\n",
    "g.add((ex.Portugal, ex.hasCapital, ex.Lisbon))\n",
    "g.add((ex.Lisbon, RDF.type, ex.Capital))\n",
    "\n",
    "g.add((ex.Spain, RDF.type, ex.Country))\n",
    "g.add((ex.Spain, ex.hasName, Literal(\"Spain\")))\n",
    "g.add((ex.Spain, ex.hasCapital, ex.Madrid))\n",
    "g.add((ex.Madrid, RDF.type, ex.Capital))\n",
    "\n",
    "g.add((ex.Italy, RDF.type, ex.Country))\n",
    "g.add((ex.Italy, ex.hasName, Literal(\"Italy\")))\n",
    "g.add((ex.Italy, ex.hasCapital, ex.Rome))\n",
    "g.add((ex.Rome, RDF.type, ex.Capital))\n",
    "\n",
    "g.add((ex.Spain, ex.neighbours, ex.Portugal))\n",
    "\n",
    "\n",
    "g.serialize(\"example-from-slides.ttl\", format=\"turtle\")\n",
    "\n",
    "serialize_graph()"
   ]
  },
  {
   "cell_type": "markdown",
   "metadata": {},
   "source": [
    "*After you ran the previous code (adding triples) the next cells will be executed on your extended graph. That is ok.*"
   ]
  },
  {
   "cell_type": "markdown",
   "metadata": {},
   "source": [
    "### - Task 2a: (10 Points) Get unstructured information from an RDF graph (all Literals)"
   ]
  },
  {
   "cell_type": "markdown",
   "metadata": {},
   "source": [
    "Use the functions available in the RDFLib library. Write a small function to print all Literals. \n",
    "\n",
    "Hint: there is a function in rdflib to test the type of an object (check previous examples in this notebook)"
   ]
  },
  {
   "cell_type": "code",
   "execution_count": 280,
   "metadata": {},
   "outputs": [
    {
     "name": "stdout",
     "output_type": "stream",
     "text": [
      "Netherlands\n",
      "Italy\n",
      "Spain\n",
      "Portugal\n"
     ]
    }
   ],
   "source": [
    "for s,p,o in g:\n",
    "    if type(o) is Literal:\n",
    "        print(o)"
   ]
  },
  {
   "cell_type": "markdown",
   "metadata": {},
   "source": [
    "### - Task 2b: (10 Points) Get structured information from an RDF graph (all unique Predicates)"
   ]
  },
  {
   "cell_type": "markdown",
   "metadata": {},
   "source": [
    "Please provide another function that gives a **unique** list of the predicates, ordered by occurrence (most occurring first). Print the number of occurences next to the predicate. The answer will look similar to this: \n",
    "<br/>7: http://www.w3.org/1999/02/22-rdf-syntax-ns#type\n",
    "<br/>4: http://example.com/kad/hasName\n",
    "<br/>4: http://example.com/kad/hasCapital\n",
    "<br/>2: http://www.w3.org/2000/01/rdf-schema#subClassOf\n",
    "<br/>2: http://www.w3.org/2000/01/rdf-schema#range\n",
    "<br/>2: http://example.com/kad/neighbours\n",
    "<br/>1: http://www.w3.org/2000/01/rdf-schema#subPropertyOf\n",
    "<br/>1: http://www.w3.org/2000/01/rdf-schema#domain"
   ]
  },
  {
   "cell_type": "code",
   "execution_count": 281,
   "metadata": {},
   "outputs": [
    {
     "name": "stdout",
     "output_type": "stream",
     "text": [
      "10: http://www.w3.org/1999/02/22-rdf-syntax-ns#type\n",
      "4: http://example.com/kad/hasName\n",
      "4: http://example.com/kad/hasCapital\n",
      "2: http://example.com/kad/neighbours\n",
      "2: http://www.w3.org/2000/01/rdf-schema#range\n",
      "2: http://www.w3.org/2000/01/rdf-schema#subClassOf\n",
      "1: http://www.w3.org/2000/01/rdf-schema#domain\n",
      "1: http://www.w3.org/2000/01/rdf-schema#subPropertyOf\n"
     ]
    }
   ],
   "source": [
    "predicates = []\n",
    "count = []\n",
    "for s, p, o in g:\n",
    "    if p not in predicates:\n",
    "        predicates.append(p)\n",
    "        count.append(1) \n",
    "    else:\n",
    "        index = predicates.index(p)\n",
    "        count[index] += 1  \n",
    "\n",
    "for i in range(len(count)-1):\n",
    "    if count[i] < count[i+1]:\n",
    "        count[i], count[i+1] = count[i+1], count[i]\n",
    "        predicates[i], predicates[i+1] = predicates[i+1], predicates[i]\n",
    "\n",
    "\n",
    "for i in range(len(predicates)):\n",
    "    print(f\"{count[i]}: {predicates[i]}\")\n",
    "\n",
    "    "
   ]
  },
  {
   "cell_type": "markdown",
   "metadata": {},
   "source": [
    "# B. Tasks related to Graph visualisations "
   ]
  },
  {
   "cell_type": "markdown",
   "metadata": {},
   "source": [
    "### - Task 3a: (20 Points) From RDF to .dot \n"
   ]
  },
  {
   "cell_type": "markdown",
   "metadata": {},
   "source": [
    "In the lecture, we have seen two ways of writing a knowledge graph (simple n-triples, and simple turtle). Let us consider a 3rd syntax, this time a syntax that is useful for visualisation. One standard for visualising graphs is the .dot format.\n",
    "\n",
    "Print the knowledge graph in .dot file format. Check https://graphviz.gitlab.io/documentation/ and https://graphviz.readthedocs.io/en/stable/ for the documentation. You will only need very little of this information, and the most relevant information can be found in the examples that are given. \n",
    "\n",
    "<br>Basically, an RDF graph in .dot format starts with `digraph G {` and then a list of links of the following form:\n",
    "<br>`s -> o [label=\"p\"]`\n",
    "<br>for every triple in the graph (separated by `;`). Do not forget to end with a closing bracket. `}`\n",
    "\n",
    "An example is \n",
    "     \n",
    "     digraph G { s1 -> o1 [label=\"p1\"] ; s2 -> o2 [label=\"p2\"] } \n",
    "     \n",
    "for an RDF graph [(s1 p1 o1), (s2 p2 o2)]"
   ]
  },
  {
   "cell_type": "code",
   "execution_count": 282,
   "metadata": {},
   "outputs": [
    {
     "name": "stdout",
     "output_type": "stream",
     "text": [
      "Requirement already satisfied: graphviz in /Library/Frameworks/Python.framework/Versions/3.13/lib/python3.13/site-packages (0.21)\n",
      "Note: you may need to restart the kernel to use updated packages.\n"
     ]
    }
   ],
   "source": [
    "# install and import the graphviz library\n",
    "%pip install graphviz\n",
    "import graphviz\n",
    "\n",
    "from IPython import display"
   ]
  },
  {
   "cell_type": "markdown",
   "metadata": {},
   "source": [
    "First, create an auxiliary function which strips the namespaces from URIs. This is necessary to make the node names readable when visualizing the .dot graph. Make sure that literals are enclosed by quotation marks. Hint: use `'\"...\"'` or `\"\\\"...\\\"\"` to insert quotation marks in Python strings."
   ]
  },
  {
   "cell_type": "code",
   "execution_count": 283,
   "metadata": {},
   "outputs": [],
   "source": [
    "from rdflib import URIRef\n",
    "\n",
    "def strip(e):\n",
    "    if isinstance(e, URIRef):\n",
    "        stripped = str(e).split('/')[-1].split('#')[-1]\n",
    "        return stripped\n",
    "    if isinstance(e, Literal):\n",
    "        return f'\"{e}\"'\n",
    "    else:\n",
    "        return str(e)\n",
    "\n"
   ]
  },
  {
   "cell_type": "markdown",
   "metadata": {},
   "source": [
    "Next, convert your graph to the .dot format."
   ]
  },
  {
   "cell_type": "code",
   "execution_count": 284,
   "metadata": {},
   "outputs": [
    {
     "name": "stdout",
     "output_type": "stream",
     "text": [
      "strict digraph {\n",
      "\tgraph [dpi=50]\n",
      "  Portugal -> Country [label = \"type\"] ; \n",
      "  Spain -> Portugal [label = \"neighbours\"] ; \n",
      "  Netherlands -> Belgium [label = \"neighbours\"] ; \n",
      "  Netherlands -> \"Netherlands\" [label = \"hasName\"] ; \n",
      "  Madrid -> Capital [label = \"type\"] ; \n",
      "  Portugal -> Lisbon [label = \"hasCapital\"] ; \n",
      "  containsCity -> Country [label = \"domain\"] ; \n",
      "  Netherlands -> Amsterdam [label = \"hasCapital\"] ; \n",
      "  Spain -> Country [label = \"type\"] ; \n",
      "  Lisbon -> Capital [label = \"type\"] ; \n",
      "  Spain -> Madrid [label = \"hasCapital\"] ; \n",
      "  Amsterdam -> Capital [label = \"type\"] ; \n",
      "  Italy -> Country [label = \"type\"] ; \n",
      "  Netherlands -> Country [label = \"type\"] ; \n",
      "  Germany -> EuropeanCountry [label = \"type\"] ; \n",
      "  containsCity -> City [label = \"range\"] ; \n",
      "  Italy -> \"Italy\" [label = \"hasName\"] ; \n",
      "  Rome -> Capital [label = \"type\"] ; \n",
      "  Spain -> \"Spain\" [label = \"hasName\"] ; \n",
      "  EuropeanCountry -> Country [label = \"subClassOf\"] ; \n",
      "  Italy -> Rome [label = \"hasCapital\"] ; \n",
      "  hasCapital -> Capital [label = \"range\"] ; \n",
      "  Belgium -> Country [label = \"type\"] ; \n",
      "  Portugal -> \"Portugal\" [label = \"hasName\"] ; \n",
      "  Capital -> City [label = \"subClassOf\"] ; \n",
      "  hasCapital -> containsCity [label = \"subPropertyOf\"] ; \n",
      "}\n",
      "\n"
     ]
    }
   ],
   "source": [
    "import graphviz\n",
    "\n",
    "dot = graphviz.Digraph(strict=True, graph_attr={\"dpi\": \"50\"})  \n",
    "\n",
    "triples = []\n",
    "for s, p, o in g:\n",
    "   triples.append(f'  {strip(s)} -> {strip(o)} [label = \"{strip(p)}\"] ; \\n')\n",
    "dot.body = triples\n",
    "print(dot.source)\n"
   ]
  },
  {
   "cell_type": "markdown",
   "metadata": {},
   "source": [
    "View the end result as .dot syntax and as a graph:"
   ]
  },
  {
   "cell_type": "code",
   "execution_count": 285,
   "metadata": {},
   "outputs": [
    {
     "name": "stdout",
     "output_type": "stream",
     "text": [
      "strict digraph {\n",
      "\tgraph [dpi=50]\n",
      "  Portugal -> Country [label = \"type\"] ; \n",
      "  Spain -> Portugal [label = \"neighbours\"] ; \n",
      "  Netherlands -> Belgium [label = \"neighbours\"] ; \n",
      "  Netherlands -> \"Netherlands\" [label = \"hasName\"] ; \n",
      "  Madrid -> Capital [label = \"type\"] ; \n",
      "  Portugal -> Lisbon [label = \"hasCapital\"] ; \n",
      "  containsCity -> Country [label = \"domain\"] ; \n",
      "  Netherlands -> Amsterdam [label = \"hasCapital\"] ; \n",
      "  Spain -> Country [label = \"type\"] ; \n",
      "  Lisbon -> Capital [label = \"type\"] ; \n",
      "  Spain -> Madrid [label = \"hasCapital\"] ; \n",
      "  Amsterdam -> Capital [label = \"type\"] ; \n",
      "  Italy -> Country [label = \"type\"] ; \n",
      "  Netherlands -> Country [label = \"type\"] ; \n",
      "  Germany -> EuropeanCountry [label = \"type\"] ; \n",
      "  containsCity -> City [label = \"range\"] ; \n",
      "  Italy -> \"Italy\" [label = \"hasName\"] ; \n",
      "  Rome -> Capital [label = \"type\"] ; \n",
      "  Spain -> \"Spain\" [label = \"hasName\"] ; \n",
      "  EuropeanCountry -> Country [label = \"subClassOf\"] ; \n",
      "  Italy -> Rome [label = \"hasCapital\"] ; \n",
      "  hasCapital -> Capital [label = \"range\"] ; \n",
      "  Belgium -> Country [label = \"type\"] ; \n",
      "  Portugal -> \"Portugal\" [label = \"hasName\"] ; \n",
      "  Capital -> City [label = \"subClassOf\"] ; \n",
      "  hasCapital -> containsCity [label = \"subPropertyOf\"] ; \n",
      "}\n",
      "\n"
     ]
    },
    {
     "data": {
      "text/plain": [
       "'graph.svg'"
      ]
     },
     "execution_count": 285,
     "metadata": {},
     "output_type": "execute_result"
    }
   ],
   "source": [
    "print(dot.source)\n",
    "dot.render('graph', format='svg', view=True)  # paste the source at www.webgraphviz.com if this does not produce anything"
   ]
  },
  {
   "cell_type": "markdown",
   "metadata": {},
   "source": [
    "### - Task 3b: (10 Points) From RDF to .dot with \"semantic information\""
   ]
  },
  {
   "cell_type": "markdown",
   "metadata": {},
   "source": [
    "There is a conceptual distinction between properties, instances and classes (sets of instances). A simple way of checking is the following\n",
    "\n",
    "1. in a triple (s a o), with predicate a (which is a special abbreviation for the predicate rdf:type), the s is an Instance, and o is a Class. \n",
    "2. in a triple (s rdfs:subClassOf o) both s and o are Classes. \n",
    "3. in a triple (p rdfs:domain o) p is a Property and o is a Class. \n",
    "4. in a triple (p rdfs:range o)  p is a Property and o is a Class. \n",
    "\n",
    "Update the .dot representation for an RDF graph that:\n",
    "\n",
    "- renders all predicates that are defined in the RDF namespace as dotted lines,\n",
    "- renders all classes as rectangles,\n",
    "- renders all literals as plain text (no enclosure), and\n",
    "- renders all instances with the color blue. \n",
    "\n",
    "Check how your graph looks once finished. Hint: you can use the `color`, `shape` and `style` attributes in the node and edge function (see the documentation)."
   ]
  },
  {
   "cell_type": "code",
   "execution_count": 286,
   "metadata": {},
   "outputs": [
    {
     "data": {
      "text/plain": [
       "'graph_semantic.svg'"
      ]
     },
     "execution_count": 286,
     "metadata": {},
     "output_type": "execute_result"
    }
   ],
   "source": [
    "from rdflib import RDF, RDFS, Literal\n",
    "\n",
    "dot = graphviz.Digraph(strict=True, graph_attr={\"dpi\": \"50\"})\n",
    "\n",
    "for s, p, o in g:\n",
    "    if isinstance(o, Literal):\n",
    "        dot.node(strip(o), shape=\"plaintext\")\n",
    "        dot.edge(strip(s), strip(o), label=strip(p))\n",
    "\n",
    "    elif p == RDF.type:\n",
    "        dot.node(strip(s), color=\"lightblue\", style=\"filled\")  \n",
    "        dot.node(strip(o), shape=\"rectangle\")                   \n",
    "        dot.edge(strip(s), strip(o), label=strip(p), style=\"dotted\")\n",
    "\n",
    "    elif p == RDFS.subClassOf:\n",
    "        dot.node(strip(s), shape=\"rectangle\")\n",
    "        dot.node(strip(o), shape=\"rectangle\")\n",
    "        dot.edge(strip(s), strip(o), label=strip(p))\n",
    "\n",
    "    elif p == RDFS.domain or p == RDFS.range:                \n",
    "        dot.node(strip(o), shape=\"rectangle\")                   \n",
    "        dot.edge(strip(s), strip(o), label=strip(p))\n",
    "    else:\n",
    "        dot.node(strip(s))\n",
    "        dot.node(strip(o))\n",
    "        dot.edge(strip(s), strip(o), label=strip(p))\n",
    "\n",
    "dot.render('graph_semantic', format='svg', view=True)\n"
   ]
  },
  {
   "cell_type": "markdown",
   "metadata": {},
   "source": [
    "### - Task 4: (10 Points) Deriving implicit knowledge (a bit of schema)\n",
    "\n",
    "We will look into Schema information in the latter modules, but let us try already to find some implicit information in a first bit of inferencing: whenever there are two statements (s rdf:type o) and (o rdfs:subClassOf o2) we can derive (and later prove) that (s rdf:type o2). \n",
    "\n",
    "Write a procedure that adds all implied triples to our knowledge graph, and which prints each implied triple."
   ]
  },
  {
   "cell_type": "code",
   "execution_count": 287,
   "metadata": {},
   "outputs": [
    {
     "name": "stdout",
     "output_type": "stream",
     "text": [
      "new triple: (rdflib.term.URIRef('http://example.com/kad/Madrid'), rdflib.term.URIRef('http://www.w3.org/1999/02/22-rdf-syntax-ns#type'), rdflib.term.URIRef('http://example.com/kad/City'))\n",
      "new triple: (rdflib.term.URIRef('http://example.com/kad/Lisbon'), rdflib.term.URIRef('http://www.w3.org/1999/02/22-rdf-syntax-ns#type'), rdflib.term.URIRef('http://example.com/kad/City'))\n",
      "new triple: (rdflib.term.URIRef('http://example.com/kad/Amsterdam'), rdflib.term.URIRef('http://www.w3.org/1999/02/22-rdf-syntax-ns#type'), rdflib.term.URIRef('http://example.com/kad/City'))\n",
      "new triple: (rdflib.term.URIRef('http://example.com/kad/Germany'), rdflib.term.URIRef('http://www.w3.org/1999/02/22-rdf-syntax-ns#type'), rdflib.term.URIRef('http://example.com/kad/Country'))\n",
      "new triple: (rdflib.term.URIRef('http://example.com/kad/Rome'), rdflib.term.URIRef('http://www.w3.org/1999/02/22-rdf-syntax-ns#type'), rdflib.term.URIRef('http://example.com/kad/City'))\n"
     ]
    },
    {
     "data": {
      "text/plain": [
       "'graph_semantic_with_inference.svg'"
      ]
     },
     "execution_count": 287,
     "metadata": {},
     "output_type": "execute_result"
    }
   ],
   "source": [
    "from rdflib import RDF, RDFS, Literal, URIRef\n",
    "dot = graphviz.Digraph(strict=True, graph_attr={\"dpi\": \"50\"})\n",
    "\n",
    "type_s = []\n",
    "type_o = []\n",
    "for s, p, o in g:\n",
    "    if p == RDF.type:\n",
    "        type_s.append(s)\n",
    "        type_o.append(o)\n",
    "\n",
    "new_triples = []\n",
    "for i in range(len(type_s)):\n",
    "    s = type_s[i]\n",
    "    o = type_o[i]\n",
    "    for o2 in g.objects(o, RDFS.subClassOf):  \n",
    "        new_t = (s, RDF.type, o2)\n",
    "        if new_t not in g:\n",
    "            new_triples.append(new_t)\n",
    "            g.add(new_t)\n",
    "            print(\"new triple:\", new_t)\n",
    "\n",
    "\n",
    "for s, p, o in g:\n",
    "    if isinstance(o, Literal):\n",
    "        dot.node(strip(o), shape=\"plaintext\")\n",
    "        dot.edge(strip(s), strip(o), label=strip(p))\n",
    "\n",
    "    elif p == RDF.type:\n",
    "        dot.node(strip(s), color=\"lightblue\", style=\"filled\")  \n",
    "        dot.node(strip(o), shape=\"rectangle\")                   \n",
    "        dot.edge(strip(s), strip(o), label=strip(p), style=\"dotted\")\n",
    "\n",
    "    elif p == RDFS.subClassOf:\n",
    "        dot.node(strip(s), shape=\"rectangle\")\n",
    "        dot.node(strip(o), shape=\"rectangle\")\n",
    "        dot.edge(strip(s), strip(o), label=strip(p))\n",
    "\n",
    "    elif p == RDFS.domain or p == RDFS.range:                    \n",
    "        dot.node(strip(o), shape=\"rectangle\")                   \n",
    "        dot.edge(strip(s), strip(o), label=strip(p))\n",
    "    else:\n",
    "        dot.node(strip(s))\n",
    "        dot.node(strip(o))\n",
    "        dot.edge(strip(s), strip(o), label=strip(p))\n",
    "\n",
    "\n",
    "\n",
    "dot.render('graph_semantic_with_inference', format='svg', view=True)\n",
    "\n"
   ]
  },
  {
   "cell_type": "markdown",
   "metadata": {},
   "source": [
    "# C. Tasks related to local copies of external RDF Datasets using SPARQL"
   ]
  },
  {
   "cell_type": "markdown",
   "metadata": {},
   "source": [
    "Until now, we have manipulated local knowledge graphs, but as we claimed in the lectures, the advantage of knowledge graphs is that they can easily be linked with other datasets on the Web. \n",
    "\n",
    "In the remaining 3 tasks, we will manipulate data from the Web, and ask complex queries over this web data. \n",
    "\n",
    "In the first task, we will access web data, make a local copy of it, and then query it. In the other two tasks, we will query live data directly from web Knowledge Graphs (in this case, the SPARQL endpoint of DBPedia). "
   ]
  },
  {
   "cell_type": "markdown",
   "metadata": {},
   "source": [
    "### - Task 5: (10 Points) Show and manipulate data about RDF resources on the Web "
   ]
  },
  {
   "cell_type": "markdown",
   "metadata": {},
   "source": [
    "With rdflib we can easily load a local graph, but we can just as well retrieve a graph from the Web. Here, we will do so using the *requests* library, which allows us to fire a request to any server and/or SPARQL endpoint and to capture the response. The following snippet does so for the resource Netherlands from Dbpedia, by using the 'DESCRIBE' keyword to give us all triples about The Netherlands, and then loads it in a RDFlib Graph object. Note that, in the next assignment, we will learn a more high-level approach that hides most of the raw request details.\n",
    "\n",
    "Should, for some external reason, the code below fail to retrieve the graph from DBpedia, then you can manually load the turtle file `dbpedia_AmsterdamBelgium.ttl` which is located in this directory and which contains the same triples. Only do this as a last resort!"
   ]
  },
  {
   "cell_type": "code",
   "execution_count": 288,
   "metadata": {},
   "outputs": [
    {
     "name": "stdout",
     "output_type": "stream",
     "text": [
      "Requirement already satisfied: requests in /Library/Frameworks/Python.framework/Versions/3.13/lib/python3.13/site-packages (2.32.5)\n",
      "Requirement already satisfied: charset_normalizer<4,>=2 in /Library/Frameworks/Python.framework/Versions/3.13/lib/python3.13/site-packages (from requests) (3.4.3)\n",
      "Requirement already satisfied: idna<4,>=2.5 in /Library/Frameworks/Python.framework/Versions/3.13/lib/python3.13/site-packages (from requests) (3.10)\n",
      "Requirement already satisfied: urllib3<3,>=1.21.1 in /Library/Frameworks/Python.framework/Versions/3.13/lib/python3.13/site-packages (from requests) (2.5.0)\n",
      "Requirement already satisfied: certifi>=2017.4.17 in /Library/Frameworks/Python.framework/Versions/3.13/lib/python3.13/site-packages (from requests) (2025.8.3)\n",
      "Note: you may need to restart the kernel to use updated packages.\n"
     ]
    }
   ],
   "source": [
    "# install the library\n",
    "%pip install requests"
   ]
  },
  {
   "cell_type": "code",
   "execution_count": 289,
   "metadata": {},
   "outputs": [
    {
     "data": {
      "text/plain": [
       "<Graph identifier=Nd24f77c6044b46d798eeb238b7a602a0 (<class 'rdflib.graph.Graph'>)>"
      ]
     },
     "execution_count": 289,
     "metadata": {},
     "output_type": "execute_result"
    }
   ],
   "source": [
    "import requests\n",
    "\n",
    "endpoint = \"https://dbpedia.org/sparql\"\n",
    "query = 'DESCRIBE <http://dbpedia.org/resource/Netherlands>'\n",
    "\n",
    "payload = {'query':query, 'format':'text/turtle'}\n",
    "response = requests.post(endpoint, data = payload)\n",
    "\n",
    "g = Graph()\n",
    "g.parse(data=response.text, format='ttl')"
   ]
  },
  {
   "cell_type": "markdown",
   "metadata": {},
   "source": [
    "Now do the same for Belgium"
   ]
  },
  {
   "cell_type": "code",
   "execution_count": 290,
   "metadata": {},
   "outputs": [
    {
     "data": {
      "text/plain": [
       "<Graph identifier=Nd24f77c6044b46d798eeb238b7a602a0 (<class 'rdflib.graph.Graph'>)>"
      ]
     },
     "execution_count": 290,
     "metadata": {},
     "output_type": "execute_result"
    }
   ],
   "source": [
    "query = 'DESCRIBE <http://dbpedia.org/resource/Belgium>'\n",
    "\n",
    "payload = {'query':query, 'format':'text/turtle'}\n",
    "response = requests.post(endpoint, data = payload)\n",
    "\n",
    "g.parse(data=response.text, format='ttl')  "
   ]
  },
  {
   "cell_type": "markdown",
   "metadata": {},
   "source": [
    "Let us start by showing diverse bits of information w.r.t  The Netherlands and Belgium in DBPedia. It is very similar to task 1, but now with Web Data. \n",
    "\n",
    "First, query the graph g (now containing the DBPedia information about both countries) and check which motor ways cross both countries."
   ]
  },
  {
   "cell_type": "code",
   "execution_count": 291,
   "metadata": {},
   "outputs": [],
   "source": [
    "qres = g.query(\n",
    "   \"\"\"\n",
    "    PREFIX dbr: <http://dbpedia.org/resource/>\n",
    "    PREFIX dbo: <http://dbpedia.org/ontology/>\n",
    "    SELECT ?s\n",
    "        WHERE {\n",
    "            ?s a dbo:Road ;\n",
    "               dbo:county dbr:Netherlands ;\n",
    "               dbo:county dbr:Belgium .\n",
    "        }\n",
    "        LIMIT 10\n",
    "       \"\"\")\n",
    "for row in qres:\n",
    "    print(\"%s\" % row)"
   ]
  },
  {
   "cell_type": "markdown",
   "metadata": {},
   "source": [
    "Write a query to check whether you can find someone who was born in The Netherlands and died in Belgium? You need to look at the data to know which property you should check for. \n",
    "\n",
    "To get an intuition of what is in the knowledge graph you might want to look at the human readable rendering on : http://dbpedia.org/resource/Netherlands"
   ]
  },
  {
   "cell_type": "code",
   "execution_count": 292,
   "metadata": {
    "scrolled": true
   },
   "outputs": [
    {
     "name": "stdout",
     "output_type": "stream",
     "text": [
      "http://dbpedia.org/resource/Ben_van_der_Voort\n",
      "http://dbpedia.org/resource/Bram_Bart\n",
      "http://dbpedia.org/resource/Petrus_van_Schendel\n",
      "http://dbpedia.org/resource/Maximilian_von_Fürstenberg\n",
      "http://dbpedia.org/resource/Salomon_Zeldenrust\n",
      "http://dbpedia.org/resource/Co_Prins\n",
      "http://dbpedia.org/resource/Cornelius_van_Zierikzee\n",
      "http://dbpedia.org/resource/Theo_Middelkamp\n",
      "http://dbpedia.org/resource/Anne_Vondeling\n",
      "http://dbpedia.org/resource/Anton_Winterink\n"
     ]
    }
   ],
   "source": [
    "# Your code here\n",
    "qres = g.query(\n",
    " \"\"\"\n",
    "    PREFIX dbr: <http://dbpedia.org/resource/>\n",
    "    PREFIX dbo: <http://dbpedia.org/ontology/>\n",
    "    SELECT ?s\n",
    "        WHERE {\n",
    "            ?s  dbo:birthPlace dbr:Netherlands ;\n",
    "                dbo:deathPlace dbr:Belgium .\n",
    "    }\n",
    "        LIMIT 10\n",
    "       \"\"\"\n",
    ")\n",
    "\n",
    "for row in qres:\n",
    "    print(\"%s\" % row)\n",
    "\n",
    "\n"
   ]
  },
  {
   "cell_type": "markdown",
   "metadata": {},
   "source": [
    "### - Task 6: (20 Points) Ask SPARQL against live data using Yasgui\n",
    "\n",
    "Yasgui (https://yasgui.triply.cc) is a nice graphical interface for asking queries.\n",
    "\n",
    "Run a new query against http://dbpedia.org/sparql that does the following:\n",
    "\n",
    "- Find all languages spoken in countries that are not official languages of that country.\n",
    "- The query should return two colums: the country, and the number of languages.\n",
    "- Order the countries by the number of unofficial languages, from high to low.\n",
    "\n",
    "Note that\n",
    "- Countries are assumed to be of type `dbo:Country`\n",
    "- Languages are assumed to be of type `dbo:Language` (and can be linked by many different predicates)\n",
    "- Official languages are linked using predicate `dbo:officialLanguage`\n",
    "- Not all countries have an official language (in which case we return all linked languages)\n",
    "\n",
    "Hint: there is more than one possible solution. See https://www.w3.org/TR/sparql11-query/ for documentation on SPARQL."
   ]
  },
  {
   "cell_type": "code",
   "execution_count": 293,
   "metadata": {},
   "outputs": [
    {
     "data": {
      "text/plain": [
       "'\\nPREFIX rdf: <http://www.w3.org/1999/02/22-rdf-syntax-ns#>\\nPREFIX dbo: <http://dbpedia.org/ontology/>\\n\\n\\nSELECT ?country (COUNT(DISTINCT ?language) AS ?numLanguages)\\nWHERE {\\n  ?country rdf:type dbo:Country .\\n  ?language rdf:type dbo:Language .\\n  ?country ?p ?language .\\n\\n  FILTER(?p != dbo:officialLanguage)  \\n  FILTER NOT EXISTS { ?country dbo:officialLanguage ?language }\\n}\\nGROUP BY ?country\\nORDER BY DESC(?numLanguages)\\n\\n'"
      ]
     },
     "execution_count": 293,
     "metadata": {},
     "output_type": "execute_result"
    }
   ],
   "source": [
    "'''\n",
    "PREFIX rdf: <http://www.w3.org/1999/02/22-rdf-syntax-ns#>\n",
    "PREFIX dbo: <http://dbpedia.org/ontology/>\n",
    "\n",
    "\n",
    "SELECT ?country (COUNT(DISTINCT ?language) AS ?numLanguages)\n",
    "WHERE {\n",
    "  ?country rdf:type dbo:Country .\n",
    "  ?language rdf:type dbo:Language .\n",
    "  ?country ?p ?language .\n",
    "\n",
    "  FILTER(?p != dbo:officialLanguage)  \n",
    "  FILTER NOT EXISTS { ?country dbo:officialLanguage ?language }\n",
    "}\n",
    "GROUP BY ?country\n",
    "ORDER BY DESC(?numLanguages)\n",
    "\n",
    "'''"
   ]
  }
 ],
 "metadata": {
  "kernelspec": {
   "display_name": "Python 3",
   "language": "python",
   "name": "python3"
  },
  "language_info": {
   "codemirror_mode": {
    "name": "ipython",
    "version": 3
   },
   "file_extension": ".py",
   "mimetype": "text/x-python",
   "name": "python",
   "nbconvert_exporter": "python",
   "pygments_lexer": "ipython3",
   "version": "3.13.5"
  }
 },
 "nbformat": 4,
 "nbformat_minor": 4
}
